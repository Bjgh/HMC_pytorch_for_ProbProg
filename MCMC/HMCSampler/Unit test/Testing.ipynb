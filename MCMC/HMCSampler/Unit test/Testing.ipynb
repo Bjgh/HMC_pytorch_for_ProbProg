{
 "cells": [
  {
   "cell_type": "code",
   "execution_count": 3,
   "metadata": {},
   "outputs": [],
   "source": [
    "\n",
    "import scipy.stats as ss\n",
    "import torch\n",
    "from Distributions import distributions as dis\n",
    "import numpy as np\n",
    "from torch.autograd import Variable\n",
    "\n",
    "def testing_autograd():\n",
    "    d = 3\n",
    "    a  = Variable(torch.ones(1,d), requires_grad = True)\n",
    "    b = Variable(2*torch.ones(1,d), requires_grad  = True)\n",
    "    c = Variable(3*torch.ones(1,d), requires_grad  = True)\n",
    "    x = Variable(torch.FloatTensor(1,d).zero_())\n",
    "    params_dic = {}\n",
    "    params  = [a,b,c]\n",
    "    for i in range(d):\n",
    "        params_dic[\"var{0}\".format(i)] = params[i]\n",
    "    #print(params_dic)\n",
    "    # as the first element needs to be assigned to x\n",
    "    x = params[0]\n",
    "    # then concatenate the rest of params\n",
    "    for i in range(len(params)):\n",
    "        if i==0:\n",
    "            x  = params[i]\n",
    "        else:\n",
    "            x = torch.cat((x,params[i]), dim = 0)\n",
    "    print(x)\n",
    "    # mvn = ss.multivariate_normal.logpdf(a.data.numpy(), mean  = np.zeros(d), cov =  np.eye(d))\n",
    "    # mvn.backward()\n",
    "    # unpack x\n",
    "    # for i in range(len(params)):\n",
    "    #     y += torch.log(params[i].mm(params[i].t()))\n",
    "    def log_normal(value):\n",
    "        value = value.unsqueeze(-1).t()\n",
    "        mean = Variable(torch.rand(3).unsqueeze(-1).t())\n",
    "        std  = Variable(torch.rand(3).unsqueeze(-1).t())\n",
    "        true_grad = -(value.data  - mean.data)/std.data**2\n",
    "        print('True grad for :', true_grad)\n",
    "        return (-0.5 *  torch.pow(value - mean, 2) / std**2) -  torch.log(std)\n",
    "    y1 = log_normal(x[0,:])\n",
    "    y2 = 2*x[1,:].unsqueeze(-1).t()\n",
    "    y3 = log_normal(x[2,:])\n",
    "    # print(y1,y2,y3)\n",
    "    y = y1+y2+y3\n",
    "    # print(y)\n",
    "    gradients = torch.autograd.grad(outputs=y,inputs=x, grad_outputs = torch.ones(3,3), retain_graph = True)\n",
    "    print(gradients[0].data * 1/x.data.size()[1])\n",
    "    print(type(gradients[0].data), gradients[0].data.size())\n",
    "    print(a.grad)\n",
    "    print(b.grad)\n",
    "    print(c.grad)\n",
    "\n"
   ]
  },
  {
   "cell_type": "code",
   "execution_count": 14,
   "metadata": {},
   "outputs": [
    {
     "name": "stdout",
     "output_type": "stream",
     "text": [
      "Variable containing:\n 2\n[torch.LongTensor of size 1]\n\n"
     ]
    }
   ],
   "source": [
    "data = Variable(torch.Tensor([0.2,0.3,0.5]))\n",
    "catobj = dis.Categorical(data.squeeze(-1))\n",
    "\n",
    "print(catobj.sample())"
   ]
  },
  {
   "cell_type": "code",
   "execution_count": 124,
   "metadata": {},
   "outputs": [
    {
     "name": "stdout",
     "output_type": "stream",
     "text": [
      "/Users/bradley/Documents/Aims_work/Miniproject2/Project_notes/MCMC/HMCSampler/HMC\n"
     ]
    }
   ],
   "source": [
    "\n"
   ]
  },
  {
   "cell_type": "code",
   "execution_count": 129,
   "metadata": {},
   "outputs": [],
   "source": [
    "import sys\n",
    "sys.path.append('/Users/bradley/Documents/Aims_work/Miniproject2/Project_notes/MCMC/HMCSampler')\n",
    "import distributions as dis"
   ]
  },
  {
   "cell_type": "code",
   "execution_count": null,
   "metadata": {},
   "outputs": [],
   "source": []
  },
  {
   "cell_type": "code",
   "execution_count": null,
   "metadata": {
    "collapsed": true
   },
   "outputs": [],
   "source": []
  }
 ],
 "metadata": {
  "kernelspec": {
   "display_name": "Python [conda root]",
   "language": "python",
   "name": "conda-root-py"
  },
  "language_info": {
   "codemirror_mode": {
    "name": "ipython",
    "version": 3
   },
   "file_extension": ".py",
   "mimetype": "text/x-python",
   "name": "python",
   "nbconvert_exporter": "python",
   "pygments_lexer": "ipython3",
   "version": "3.5.3"
  }
 },
 "nbformat": 4,
 "nbformat_minor": 2
}
