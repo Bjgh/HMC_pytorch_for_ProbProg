{
 "cells": [
  {
   "cell_type": "markdown",
   "metadata": {
    "cell_id": "05DE16FF3E9B483788D3B192E7AF6F73"
   },
   "source": [
    "# Gaussian Process Regression in Pytorch\n",
    "\n",
    "*Thomas Viehmann*, <tv@lernapparat.de>\n",
    "\n",
    "Bayesian time!\n",
    "\n",
    "I could not write a Gaussian Process introduction better than [Rasmussen and Williams in the canonical book](http://www.gaussianprocess.org/gpml/), so you will just follow the link.\n",
    "\n",
    "This notebook touches selected aspects of Chapter 2 (Regression) and Section 5.4 (Model Selection for GP regression, we use the marginal likelihood).\n",
    "\n",
    "As usual, the best part is that Pytorch will do the gradients for us.\n",
    "\n",
    "(Note that the explanations are in no way finished.)"
   ]
  },
  {
   "cell_type": "code",
   "execution_count": 8,
   "metadata": {
    "cell_id": "C56FA1DC11504021833EAF55BEF3E07D"
   },
   "outputs": [],
   "source": [
    "from matplotlib import pyplot\n",
    "%matplotlib inline\n",
    "import IPython\n",
    "import torch\n",
    "from torch import nn\n",
    "from torch.autograd import Variable\n",
    "import numpy"
   ]
  },
  {
   "cell_type": "markdown",
   "metadata": {
    "cell_id": "7D0580E460BC4D258B714A255A53612C"
   },
   "source": [
    "Let's have a very cheap cholesky layer.\n",
    "\n",
    "If you want to be a hero, write a autograd triangular solve function. I think that would be both more efficient and more stable."
   ]
  },
  {
   "cell_type": "code",
   "execution_count": 9,
   "metadata": {
    "cell_id": "9BF8B14EE53A47A08E2A7082A831858F"
   },
   "outputs": [],
   "source": [
    "class Cholesky(torch.autograd.Function):\n",
    "    @staticmethod\n",
    "    def forward(ctx, a):\n",
    "        l = torch.potrf(a, False)\n",
    "        ctx.save_for_backward(l)\n",
    "        return l\n",
    "    @staticmethod\n",
    "    def backward(ctx, grad_output):\n",
    "        l, = ctx.saved_variables\n",
    "        # Gradient is l^{-H} @ ((l^{H} @ grad) * (tril(ones)-1/2*eye)) @ l^{-1}\n",
    "        # TODO: ideally, this should use some form of solve triangular instead of inverse...\n",
    "        linv =  l.inverse()\n",
    "        \n",
    "        inner = torch.tril(torch.mm(l.t(),grad_output))*torch.tril(1.0-Variable(l.data.new(l.size(1)).fill_(0.5).diag()))\n",
    "        s = torch.mm(linv.t(), torch.mm(inner, linv))\n",
    "        # could re-symmetrise \n",
    "        #s = (s+s.t())/2.0\n",
    "        \n",
    "        return s"
   ]
  },
  {
   "cell_type": "markdown",
   "metadata": {
    "cell_id": "B0752DA711874B3A9E068AB2F952EC8A"
   },
   "source": [
    "So let's do Gaussian Process Regression. We use the basic RBF kernel but with automatic relevance detection and a gaussian likelihood (i.e. noisy data).\n"
   ]
  },
  {
   "cell_type": "code",
   "execution_count": 82,
   "metadata": {
    "cell_id": "8E992D5F44DA489C89BDEF3E536700EA"
   },
   "outputs": [],
   "source": [
    "LOG2PI = numpy.log(2*numpy.pi)\n",
    "class ARDRBFKernel(nn.Module):\n",
    "    def __init__(self, n, lambda0=None, sigma0=None):\n",
    "        super(ARDRBFKernel, self).__init__()\n",
    "        self.n = n\n",
    "        if lambda0 is None:\n",
    "            lambda0 = torch.ones(n)*0.05\n",
    "        self.lam = nn.Parameter(lambda0)\n",
    "        if sigma0 is None:\n",
    "            sigma0 = torch.ones(1)*0.1\n",
    "        elif numpy.isscalar(sigma0):\n",
    "            sigma0 = torch.FloatTensor(1).fill_(sigma0)\n",
    "        self.sigma = nn.Parameter(sigma0)\n",
    "    def forward(self, x, x2=None):\n",
    "        # todo stabilize\n",
    "        x = x/self.lam.unsqueeze(0).expand_as(x)\n",
    "        if x2 is None:\n",
    "            x2 = x\n",
    "        else:\n",
    "            x2 = x2/self.lam.unsqueeze(0).expand_as(x2)\n",
    "        x_  = x.unsqueeze(1).expand(x.size(0),x2.size(0),x.size(1))\n",
    "        x2_ = x2.unsqueeze(0).expand(x.size(0),x2.size(0),x.size(1))\n",
    "        sqdists = ((x_-x2_)**2).sum(2) #.squeeze(2)\n",
    "        return self.sigma.view(1,1).expand_as(sqdists)*(-sqdists/2).exp()\n",
    "\n",
    "class GP(nn.Module):\n",
    "    def __init__(self, K, x, y, var0=None):\n",
    "        super(GP, self).__init__()\n",
    "        if var0 is None:\n",
    "            var0 = torch.ones(1)\n",
    "        elif numpy.isscalar(var0):\n",
    "            var0 = torch.FloatTensor(1).fill_(var0)\n",
    "        self.var = nn.Parameter(var0)\n",
    "        self.x = x\n",
    "        self.y = y\n",
    "        self.K = K\n",
    "    def predict(self, xstar=None):\n",
    "        Kxx_inv = torch.inverse(self.K(self.x)+Variable(torch.eye(self.x.size(0)))*self.var)\n",
    "        Kxxstar = self.K(self.x, xstar)\n",
    "        Kxstarxstar = self.K(xstar)\n",
    "        mu = torch.mv(Kxxstar, torch.mv(Kxx_inv,self.y))\n",
    "        cov = torch.Kxstarxstar-torch.mm(Kxxstar.t(), torch.mm(Kxx_inv), Kxxstar)\n",
    "        return mu, cov\n",
    "    def forward(self, xstar=None):\n",
    "        Kxx_noise = self.K(self.x)+Variable(torch.eye(self.x.size(0)))*self.var\n",
    "        L = Cholesky.apply(Kxx_noise)\n",
    "        Linv = L.inverse()\n",
    "        alpha = torch.mv(Kxx_noise.inverse(),self.y)\n",
    "        if xstar is not None:\n",
    "            Kxxstar = self.K(self.x, xstar)\n",
    "            Kxstarxstar = self.K(xstar)\n",
    "            mu = torch.mv(Kxxstar.t(), alpha)\n",
    "            v = torch.mm(Linv,Kxxstar)\n",
    "            cov = Kxstarxstar-torch.mm(v.t(),v)\n",
    "        #print (self.K.lam.data[0], (0.5*self.y.dot(alpha)).data[0],L.diag().log().sum().data[0],self.y.size(0)/2.0*LOG2PI)\n",
    "        neg_logp = 0.5*self.y.dot(alpha)+L.diag().log().sum()+self.y.size(0)/2.0*LOG2PI\n",
    "        if xstar is not None:\n",
    "            return mu,cov,neg_logp\n",
    "        else:\n",
    "            return neg_logp\n",
    "\n"
   ]
  },
  {
   "cell_type": "markdown",
   "metadata": {
    "cell_id": "582380B3DDE44415B06F652C6940AF71"
   },
   "source": [
    "Let's have a regression example"
   ]
  },
  {
   "cell_type": "code",
   "execution_count": 80,
   "metadata": {
    "cell_id": "7D9AA2647C2C4AD6A42AA374EFF07F28"
   },
   "outputs": [
    {
     "data": {
      "text/plain": [
       "[<matplotlib.lines.Line2D at 0x7fa246b15668>]"
      ]
     },
     "execution_count": 80,
     "metadata": {},
     "output_type": "execute_result"
    },
    {
     "data": {
      "image/png": "[encoded data removed]",
      "text/plain": [
       "<matplotlib.figure.Figure at 0x7fa24709a780>"
      ]
     },
     "metadata": {},
     "output_type": "display_data"
    }
   ],
   "source": [
    "N = 12\n",
    "X = torch.rand(N,1)\n",
    "Y = (torch.sin(12*X) + 0.6*torch.cos(25*X) + torch.randn(N,1)*0.1 + 3).squeeze(1)\n",
    "pyplot.figure()\n",
    "pyplot.plot(X.numpy(), Y.numpy(), 'kx', mew=2)\n"
   ]
  },
  {
   "cell_type": "code",
   "execution_count": 89,
   "metadata": {
    "cell_id": "37D848D2C2374C19894E433C3C5F1A58",
    "scrolled": true
   },
   "outputs": [
    {
     "name": "stdout",
     "output_type": "stream",
     "text": [
      "Final loss 15.55954647064209\n"
     ]
    }
   ],
   "source": [
    "K = ARDRBFKernel(1)\n",
    "gp = GP(K, Variable(X), Variable(Y), var0=0.1)\n",
    "\n",
    "def closure():\n",
    "    opt.zero_grad()\n",
    "    nlogp = gp.forward()\n",
    "    nlogp.backward()\n",
    "    return nlogp\n",
    "\n",
    "opt = torch.optim.LBFGS(gp.parameters(), lr=0.1)\n",
    "for i in range(10):\n",
    "    opt.zero_grad()\n",
    "    nlogp = gp.forward()\n",
    "    nlogp.backward()\n",
    "    opt.step(closure)\n",
    "print (\"Final loss\",nlogp.data[0])"
   ]
  },
  {
   "cell_type": "markdown",
   "metadata": {
    "cell_id": "EF88856D8CAF446380AC9BFEADCE4647"
   },
   "source": [
    "And we can plot with the credible interval"
   ]
  },
  {
   "cell_type": "code",
   "execution_count": 101,
   "metadata": {
    "cell_id": "0912147330F74C12B0E6E1E38FBD8C60"
   },
   "outputs": [
    {
     "data": {
      "text/plain": [
       "[<matplotlib.lines.Line2D at 0x7fa244e59240>]"
      ]
     },
     "execution_count": 101,
     "metadata": {},
     "output_type": "execute_result"
    },
    {
     "data": {
      "image/png": "[encoded data removed]",
      "text/plain": [
       "<matplotlib.figure.Figure at 0x7fa246ed8dd8>"
      ]
     },
     "metadata": {},
     "output_type": "display_data"
    }
   ],
   "source": [
    "xstar = torch.linspace(0,1,1000)\n",
    "mu, vsq, nll = gp.forward(xstar=Variable(xstar.unsqueeze(1)))\n",
    "cred_size = vsq.diag()**0.5*2\n",
    "pyplot.plot(xstar.numpy(),mu.data.numpy(),'b')\n",
    "pyplot.fill_between(xstar.numpy(),mu.data.numpy()+cred_size.data.numpy(), mu.data.numpy()-cred_size.data.numpy(),facecolor='0.75')\n",
    "pyplot.plot(X.numpy(), Y.numpy(), 'kx', mew=2)\n",
    "\n"
   ]
  },
  {
   "cell_type": "markdown",
   "metadata": {
    "cell_id": "B2A048522FDA4F3C8666F773BA8F809F",
    "collapsed": true
   },
   "source": [
    "I appreciate your feedback at <tv@lernapparat.de>."
   ]
  },
  {
   "cell_type": "code",
   "execution_count": null,
   "metadata": {
    "cell_id": "513CA294C85944AC9417C7C16DCEB8EC"
   },
   "outputs": [],
   "source": []
  }
 ],
 "metadata": {
  "kernelspec": {
   "display_name": "Python 3",
   "language": "python",
   "name": "python3"
  },
  "language_info": {
   "codemirror_mode": {
    "name": "ipython",
    "version": 3
   },
   "file_extension": ".py",
   "mimetype": "text/x-python",
   "name": "python",
   "nbconvert_exporter": "python",
   "pygments_lexer": "ipython3",
   "version": "3.5.3"
  }
 },
 "nbformat": 4,
 "nbformat_minor": 2
}